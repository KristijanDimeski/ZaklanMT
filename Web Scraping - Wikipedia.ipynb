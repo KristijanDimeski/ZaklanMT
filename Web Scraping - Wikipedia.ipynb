{
 "cells": [
  {
   "cell_type": "code",
   "execution_count": 1,
   "id": "1be4ef6f",
   "metadata": {},
   "outputs": [],
   "source": [
    "import requests\n",
    "from bs4 import BeautifulSoup"
   ]
  },
  {
   "cell_type": "code",
   "execution_count": 33,
   "id": "dba76545",
   "metadata": {},
   "outputs": [
    {
     "name": "stdout",
     "output_type": "stream",
     "text": [
      "Title: Bad Boys II\n",
      "Content: <p class=\"mw-empty-elt\">\n",
      "</p>\n",
      "<p><i><b>Bad Boys II</b></i> is a 2003 American buddy cop action comedy film directed by Michael Bay, produced by Jerry Bruckheimer, and sequel to the 1995 film <i>Bad Boys</i>, in addition to the second film in the <i>Bad Boys</i> film series. Martin Lawrence, Will Smith, Theresa Randle and Joe Pantoliano reprise their roles from the previous film. New cast members include Jordi Mollà, Gabrielle Union and Peter Stormare. The film follows detectives Burnett and Lowrey investigating the flow of illegal drugs going into Miami.\n",
      "</p><p><i>Bad Boys II</i> was released on July 18, 2003. It received generally negative reviews from critics, with the Rotten Tomatoes critics' consensus describing it as \"two and a half hours of explosions and witless banter\"; however, it performed fairly well commercially, grossing $273 million worldwide. A third film, <i>Bad Boys for Life</i>, was released in January 2020.\n",
      "</p>\n",
      "\n",
      "\n",
      "<h2><span id=\"Plot\">Plot</span></h2>\n",
      "<p>Eight years after taking down Fouchet, Miami PD detectives Mike Lowrey and Marcus Burnett are investigating drug trafficking of ecstasy in Miami. They infiltrate a Klan meeting, only to discover that they are buyers and not distributors. After a radio malfunction leads to a delayed arrival of Miami Police's Tactical Narcotics Team (TNT), Mike and Marcus end up in a shootout with the Klansmen, with Marcus accidentally sustaining a gunshot wound to the buttocks from Mike.\n",
      "</p><p>These antics lead Marcus to re-evaluate whether he should remain partners with Mike, who is secretly dating Syd, Marcus' younger sister. Unbeknownst to both Marcus and Mike, Syd is working undercover for the Drug Enforcement Administration (DEA) as a money launderer to a branch of the Russian Mafia operating in Miami's drug trade who are distributors working with the drug lord Hector Juan Carlos \"Johnny\" Tapia. After laundering a large sum of money, Syd is intercepted by a Haitian Zoe Pound gang while she is transporting the money. Mike and Marcus, working on a tip from an informant, had been following the Haitians when the latter made their move, leading to an extensive gun battle and car chase through Miami that resulted in significant collateral damage. Mike and Marcus were reprimanded by Captain Howard, who was further miffed to find out the DEA was running an investigation in Miami without consulting him first.\n",
      "</p><p>Mike and Marcus track down the Haitians, interrogate the leader, and learn from one of the Haitian's video cameras that Tapia is using a local mortuary as a front for his operations. To gain more intel, Mike and Marcus pose as pest exterminators responding to a rat infestation at Tapia's Miami residence. Meanwhile, Tapia is meeting with his Russian business associates. Tapia has one of his associates butchered as a threat to sign over all the nightclubs to distribute ecstasy. Tapia begins a mixed business-personal relationship with Syd wherein he intends for her to launder all of the money for his operation.\n",
      "</p><p>Later, Mike and Marcus infiltrate Tapia's mortuary. Inside they discover that Tapia is using cadavers and coffins to smuggle drugs and money in and out of the country. The evidence is sufficient for Captain Howard to authorize a raid on both Tapia's residence and the mortuary in collaboration with the DEA and the U.S. Coast Guard. Nearly all of Tapia's drug supply and money are confiscated in the raid, though Tapia flees to Cuba with Syd as a hostage before he can be apprehended. Using her as a bargaining chip, Tapia demands the return of his money. Knowing that is impossible, Mike and Marcus arrange a covert operation to rescue Syd, forming a black-ops team with agents from the DEA, TNT, and Captain Howard's contacts from the CIA.\n",
      "</p><p>The team is inserted by the Coast Guard a few miles off the coast of Cuba, where they rendezvous with a fellow officer's brother, Tito, who is head of the local Alpha 66 underground resistance in Cuba. There, Tito assists the teams with weapons, a tunnel network, and an accurate mapping of Tapia's new mansion.\n",
      "</p><p>The team infiltrates Tapia's mansion, rescues Syd, and leaves a large explosive device that demolishes the mansion upon the team's exfiltration. Marcus and Mike, along with Syd and Tito, steal a yellow Hummer H2 as they escape from Cuban military forces. Tapia survives and pursues the group, ultimately ending up outside of Guantanamo Bay. Not recognized as U.S. Citizens, the Navy personnel on the base shoot at both Mike and Marcus as well as Tapia's vehicles, prompting them to stop just as they enter a live minefield. Marcus kills Tapia while the latter holds Mike at gunpoint. Tapia's body falls backward onto a mine which obliterates his corpse. \n",
      "</p><p>Mike, Marcus, and Syd celebrate at a barbecue in Marcus' backyard with his family; Marcus has decided to remain partners with Mike.\n",
      "</p>\n",
      "<h2><span id=\"Cast\">Cast</span></h2>\n",
      "\n",
      "<h2><span id=\"Production\">Production</span></h2>\n",
      "<h3><span id=\"Development_and_writing\">Development and writing</span></h3>\n",
      "<p>In August 1995, The Los Angeles Times reported that Producers Jerry Bruckheimer and Don Simpson were planning to make a sequel to Bad Boys, with filming set to begin in 1996.</p><p>Writer/Director Tom Dey had re-written a previous draft, and was set to make his directorial debut on the film.</p><p>By 1997, plans were scrapped after Sony executives were dissatisfied with the script.</p><p>Jonathan Dayton and Valerie Faris turned down an offer to direct the film.</p><p>Cormac and Marianne Wibberley were asked by an executive at Jerry Bruckheimer Films to come in with a idea for the sequel, the duo wrote a first draft, pitched it, and Bruckheimer liked it.</p><p>In March 2002, it was reported that Ron Shelton was rewriting the script.</p><p>Jerry Stahl was hired and did a rewrite on Shelton's script, initially brought on board for a week-long rewrite of the script, he wound up staying on for several weeks, Stahl would later claim that only snippets of his dialogue remain in the film.</p><p>John Lee Hancock was then hired by the studio and Bruckheimer to do a rewrite, Bay initially balked at Bruckheimer's choice of Hancock, skeptical that the writer was right for an action movie, as Bruckheimer recalled: \"I reminded Michael that John was a director himself, so he knows a director’s problems and how to solve them\". Hancock was tasked with making the script less simplistic, in addition to adding subplots, and more conflict, giving each protagonist a secret. Hancock left after three weeks to start production on The Alamo.</p><p>Judd Apatow was hired to do a rewrite on the script, with assistance from Seth Rogen and Evan Goldberg, according to Rogen, him and Goldberg were broke, so Apatow gave them a bit of money to help him on the script, they ended up contributing a few gags.</p><p>After Apatow's rewrite, Brian Koppelman and David Levien were brought in towards the end of shooting to do punch up work on the characters, they worked on the script for a week.</p><p>Other writers, such as Ron Bass, Dick Clement and Ian La Frenais, Larry Ferguson, George Gallo, Tony Gilroy, Dan Gordon, Brian Helgeland, Gregory Allen Howard, Todd Robinson, and Marshall Todd were brought in at various points throughout the developmental process to either write their own draft, or rewrite the script.</p><p>The final screenplay would be credited to Ron Shelton and Jerry Stahl, with story credit going to Shelton and the Wibberleys.\n",
      "</p>\n",
      "<h3><span id=\"Filming\">Filming</span></h3>\n",
      "<p>Principal photography took place between July and December 2002, mostly in Miami. The eastbound lanes for MacArthur Causeway were shut down in early August 2002 to allow filming. Filming also occupied one side of Bill Baggs Cape Florida State Park, while <i>2 Fast 2 Furious</i> was shot on the other side around the same time.</p>\n",
      "<h2><span id=\"Music\">Music</span></h2>\n",
      "<link rel=\"mw-deduplicated-inline-style\" href=\"mw-data:TemplateStyles:r1033289096\">\n",
      "<h2><span id=\"Reception\">Reception</span></h2>\n",
      "<h3><span id=\"Critical_response\">Critical response</span></h3>\n",
      "<p>On Rotten Tomatoes, <i>Bad Boys II</i> holds an approval rating 23% based on 183 reviews, and a weighted average of 4.08/10. The site's critical consensus states, \"Two and a half hours of explosions and witless banter.\"  On Metacritic, the film has a weighted average score of 38 out of 100, based on 34 critics, indicating \"generally unfavorable reviews\". Audiences polled by CinemaScore gave the film an average grade of \"A\" on an A+ to F scale, same as the first film.</p><p>Roger Ebert of the <i>Chicago Sun-Times</i> gave the film one out of a possible four stars, especially offended by one scene involving a teenage boy and the use of the N-Word, saying, \"The needless cruelty of this scene took me out of the movie and into the minds of its makers. What were they thinking? Have they so lost touch with human nature that they think audiences will like this scene?\" On an episode of <i>At the Movies with Ebert &amp; Roeper</i>, film critic Richard Roeper named <i>Bad Boys II</i> the worst film of 2003.\n",
      "</p><p>James Berardinelli of <i>ReelViews</i> was even more negative about the film, rating it half a star out of four and stating: \"<i>Bad Boys II</i> isn't just bad - it's a catastrophic violation of every aspect of cinema that I as a film critic hold dear.\"</p><p>Among the more positive reviews was <i>Seattle Post-Intelligencer</i> critic Ellen A. Kim, who wrote that the film was \"mindlessly fun... If you like this type of movie, that is.\" The film was also praised by a few critics and viewers for its deftly handled action sequences and visual effects.</p>\n",
      "<h3><span id=\"Box_office\">Box office</span></h3>\n",
      "<p><i>Bad Boys II</i> was a financial success. For its opening weekend, the film generated $46.5 million, making it the fourth-highest opening weekend for an R-rated film, behind <i>The Matrix Reloaded</i>, <i>Hannibal</i> and <i>8 Mile</i>. It managed to beat out <i>Pirates of the Caribbean: The Curse of the Black Pearl</i> to reach the number one spot. Although <i>Bad Boys II</i> dropped into third place behind the latter film and <i>Spy Kids 3-D: Game Over</i> with a 52.6% decline, it still made $22 million while keeping above <i>Lara Croft: Tomb Raider – The Cradle of Life</i> and <i>Seabiscuit</i>. In the UK, it made $10 million, making it the country's second-highest-grossing film released in October 2003, behind <i>Finding Nemo</i>. The film made $138 million North America and $135 million in other territories, totaling $273 million worldwide against a budget of $130 million, almost twice the gross of the original film.</p>\n",
      "<h3><span id=\"Accolades\">Accolades</span></h3>\n",
      "<p>At the 2004 MTV Movie Awards, the film was nominated for \"Best Action Sequence\" for the inter-coastal freeway pursuit and \"Best On-Screen Team\", but lost to <i>The Lord of the Rings: The Return of the King</i> and <i>50 First Dates</i>, respectively.\n",
      "</p><p><i>Bad Boys II</i> was nominated at the 2nd Annual Visual Effects Society Awards (VES) for \"Outstanding Supporting Visual Effects in a Motion Picture\".</p><p>At the 2003 Stinkers Bad Movie Awards, the film won the award for Worst Sequel. It was also nominated for Most Intrusive Musical Score, but lost to <i>Charlie's Angels: Full Throttle</i>.</p>\n",
      "<h2><span id=\"In_other_media\">In other media</span></h2>\n",
      "<h3><span id=\"Video_game\">Video game</span></h3>\n",
      "<p>A video game version of the film, known as <i>Bad Boys: Miami Takedown</i> in North America, was released in 2004 on the PlayStation 2, Xbox, GameCube and Windows. Originally planned for release in late 2003 (to tie in with the film's DVD release), the game was pushed back several months. The game failed to deliver any sort of sales or critical acclaim due to poor development; it was given low ratings from many game websites.</p>\n",
      "<h2><span id=\"Sequel\">Sequel</span></h2>\n",
      "<link rel=\"mw-deduplicated-inline-style\" href=\"mw-data:TemplateStyles:r1033289096\">\n",
      "<p>In June 2008, Bay stated that he may direct <i>Bad Boys III</i>, but that the greatest obstacle to the potential sequel would be the cost, as he and Will Smith demand some of the highest salaries in the film industry. By August 2009, Columbia Pictures had hired Peter Craig to write the script for <i>Bad Boys III</i>. In February 2011, Martin Lawrence reiterated that the film was in development. In June 2014, Bruckheimer announced that screenwriter David Guggenheim was working on the storyline for the sequel. Two months later, Lawrence said a script had been written and parts had been cast. By June 2015, director Joe Carnahan was in early talks to write and possibly direct the film. Two months later, Sony Pictures Entertainment announced that <i>Bad Boys III</i> would be released on February 17, 2017, and that additional sequel, <i>Bad Boys IV</i>, is scheduled for release on July 3, 2019. On March 5, 2016, the film was pushed to June 2, 2017. Producers planned to begin production in early 2017. On August 11, 2016, the film was pushed back once again to January 12, 2018, to avoid box office competition with the upcoming DC Comics film <i>Wonder Woman</i>, and retitled <i>Bad Boys for Life</i>. Lawrence revealed on <i>Jimmy Kimmel Live!</i> that filming may start in March 2017. On February 6, 2017, it was announced that the film's release date has been delayed for the third time, to November 9, 2018. On March 7, 2017, Carnahan left the movie due to scheduling conflicts. In August 2017, Sony removed the third film from their release schedule and later in the month Lawrence said the film would not be happening.</p><p>In February 2018, it was reported that a sequel film was again being planned and will be directed by Belgian directors Adil El Arbi and Bilall Fallah, after development on <i>Beverly Hills Cop: Axel F</i> stalled, with Martin Lawrence and Will Smith reprising their roles. Joe Pantoliano also reprised his role as Captain Howard. Filming began in January 2019.</p>\n",
      "<h2><span id=\"Television_series\">Television series</span></h2>\n",
      "<link rel=\"mw-deduplicated-inline-style\" href=\"mw-data:TemplateStyles:r1033289096\">\n",
      "<p>In October 2017, a spin-off television series centered on Gabrielle Union's character, was announced to be in development by Brandon Margolis and Brandon Sonnier. Later that month NBC ordered the pilot episode of the series.\n",
      "By March 2018, Jessica Alba was cast as the co-star with Gabrielle Union. In addition to Union, John Salley will also reprise his role as Fletcher, a computer hacker who helps Mike and Marcus in the film series. The following month, the title of the series was revealed as <i>LA's Finest</i>, with Jerry Bruckheimer serving as executive producer for the series. Later that month, NBC passed on the pilot, and the show was shopped around to other networks. NBC's boss, Bob Greenblatt, said: “These are all tough calls. We did have an embarrassment of riches. And when we laid out the schedule and the calendar all season...it was a show that didn’t fit in the grand scheme of it.”</p><p>That same month, it was revealed that Sony Pictures Television, was negotiating with Charter Communications about picking up the series. By June 2018, Canada's Bell Media picked it up for 13 episodes. Charter gave its series order on June 26, intent on making it Spectrum's first original series.</p>\n",
      "<h2><span id=\"Home_media\">Home media</span></h2>\n",
      "<p><i>Bad Boys II</i> was released on VHS and DVD on December 9, 2003. A Blu-ray release followed on November 10, 2015. <i>Bad Boys II</i> was included in a two film collection that includes the first film which was released on Ultra HD Blu-ray on September 4, 2018.</p>\n",
      "<h2><span id=\"See_also\">See also</span></h2>\n",
      "<ul><li>Bad Boys (franchise)</li>\n",
      "<li><i>Police Story</i> (1985) - inspired the very similar shanty town chase sequence in the film</li></ul><h2><span id=\"Notes\">Notes</span></h2>\n",
      "\n",
      "<h2><span id=\"References\">References</span></h2>\n",
      "<link rel=\"mw-deduplicated-inline-style\" href=\"mw-data:TemplateStyles:r1011085734\">\n",
      "<h2><span id=\"External_links\">External links</span></h2>\n",
      "\n",
      "<ul><li><i>Bad Boys II</i> at IMDb </li>\n",
      "<li><i>Bad Boys II</i> at Metacritic </li>\n",
      "<li><i>Bad Boys II</i> at Box Office Mojo</li>\n",
      "<li><i>Bad Boys II</i> at Rotten Tomatoes</li>\n",
      "<li><i>Bad Boys II</i> at the <em>American Film Institute Catalog</em></li></ul>\n"
     ]
    }
   ],
   "source": [
    "import requests\n",
    "from urllib.parse import quote\n",
    "\n",
    "api_url = 'https://en.wikipedia.org/w/api.php'\n",
    "\n",
    "# Specify the parameters for your request\n",
    "params = {\n",
    "    'action': 'query',\n",
    "    'format': 'json',\n",
    "    'prop': 'extracts',\n",
    "    'titles': 'Bad Boys II',\n",
    "}\n",
    "\n",
    "# Make the API request\n",
    "response = requests.get(api_url, params=params)\n",
    "data = response.json()\n",
    "\n",
    "# Extract relevant information from the response\n",
    "page_id = list(data['query']['pages'].keys())[0]\n",
    "title = data['query']['pages'][page_id]['title']\n",
    "content = data['query']['pages'][page_id]['extract']\n",
    "\n",
    "# Print or process the retrieved data as needed\n",
    "print(f\"Title: {title}\")\n",
    "print(f\"Content: {content}\")"
   ]
  },
  {
   "cell_type": "code",
   "execution_count": null,
   "id": "06e7a129",
   "metadata": {},
   "outputs": [],
   "source": []
  }
 ],
 "metadata": {
  "kernelspec": {
   "display_name": "Python 3 (ipykernel)",
   "language": "python",
   "name": "python3"
  },
  "language_info": {
   "codemirror_mode": {
    "name": "ipython",
    "version": 3
   },
   "file_extension": ".py",
   "mimetype": "text/x-python",
   "name": "python",
   "nbconvert_exporter": "python",
   "pygments_lexer": "ipython3",
   "version": "3.11.5"
  }
 },
 "nbformat": 4,
 "nbformat_minor": 5
}
